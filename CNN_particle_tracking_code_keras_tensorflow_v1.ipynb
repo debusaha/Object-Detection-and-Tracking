{
 "cells": [
  {
   "cell_type": "code",
   "execution_count": 1,
   "id": "377be8b8",
   "metadata": {},
   "outputs": [],
   "source": [
    "import keras\n",
    "from keras.models import Sequential\n",
    "from keras.layers import Dense\n",
    "from keras.layers.convolutional import Conv2D # to add convolutional layers"
   ]
  },
  {
   "cell_type": "code",
   "execution_count": 2,
   "id": "0564ac61",
   "metadata": {},
   "outputs": [],
   "source": [
    "def convolutional_model():\n",
    "    # create model\n",
    "    model = Sequential()\n",
    "    # layer 1\n",
    "    model.add(Conv2D(3, (9,9), strides=(2,2), activation='softplus', input_shape=(1024, 1024, 1)))\n",
    "    model.add(Conv2D(3, (5,5), strides=(2,2), activation='softplus'))\n",
    "    model.add(Conv2D(3, (3,3), strides=(1,1), activation='softplus'))\n",
    "    # layer 2\n",
    "    model.add(AtrousConvolution2D(6, (7,7), atrous_rate=(2,2), border_mode='valid'))\n",
    "    model.add(AtrousConvolution2D(6, (3,3), atrous_rate=(2,2), border_mode='valid'))\n",
    "    # RNN layer\n",
    "    model.add(AtrousConvolution2D(7))\n",
    "    # layer 3\n",
    "    model.add(UpSampling2D(interpolation='bilinear'))\n",
    "    return model"
   ]
  },
  {
   "cell_type": "code",
   "execution_count": null,
   "id": "43be9e90",
   "metadata": {},
   "outputs": [],
   "source": []
  }
 ],
 "metadata": {
  "kernelspec": {
   "display_name": "Python 3 (ipykernel)",
   "language": "python",
   "name": "python3"
  },
  "language_info": {
   "codemirror_mode": {
    "name": "ipython",
    "version": 3
   },
   "file_extension": ".py",
   "mimetype": "text/x-python",
   "name": "python",
   "nbconvert_exporter": "python",
   "pygments_lexer": "ipython3",
   "version": "3.8.11"
  }
 },
 "nbformat": 4,
 "nbformat_minor": 5
}
